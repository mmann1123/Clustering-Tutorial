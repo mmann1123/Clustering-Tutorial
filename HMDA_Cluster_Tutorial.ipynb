{
 "cells": [
  {
   "cell_type": "code",
   "execution_count": null,
   "id": "79342c56",
   "metadata": {},
   "outputs": [],
   "source": [
    "import geopandas as gpd\n",
    "import us\n",
    "import pandas as pd\n",
    "import libpysal\n",
    "import pandas as pd\n",
    "import numpy as np\n",
    "import matplotlib.pyplot as plt\n",
    "from helpers import (\n",
    "    plot_lisa_analysis,\n",
    "    plot_moran_scatter,\n",
    "    calculate_moran_i_report,\n",
    "    calculate_moran_local_bv,\n",
    "    map_local_morans,\n",
    "    calculate_moran_local,\n",
    ")"
   ]
  },
  {
   "cell_type": "markdown",
   "id": "6557ebe2",
   "metadata": {},
   "source": [
    "This step of the tutorial focuses on downloading, cleaning, and visualizing county-level geographic data for the contiguous United States (ConUS) using FIPS codes.\n",
    "\n",
    "- State FIPS Code: A 2-digit code representing a U.S. state or territory.\n",
    "- County FIPS Code: A 3-digit code representing a county or county-equivalent within a state.\n",
    "\n",
    "When combined, the State FIPS Code and County FIPS Code form a unique 5-digit identifier for each county in the U.S."
   ]
  },
  {
   "cell_type": "code",
   "execution_count": null,
   "id": "f7c829fc",
   "metadata": {},
   "outputs": [],
   "source": [
    "# %% Download and clean county files\n",
    "# !wget https://www2.census.gov/geo/tiger/TIGER2017/COUNTY/tl_2017_us_county.zip\n",
    "# !unzip tl_2017_us_county.zip\n",
    "\n",
    "# %% Read in county file\n",
    "county = gpd.read_file(\"tl_2017_us_county.shp\")\n",
    "county.plot()\n",
    "\n",
    "# %% Limit to ConUS\n",
    "exclude_states = [\n",
    "    us.states.GU.fips,\n",
    "    us.states.AS.fips,\n",
    "    us.states.MP.fips,\n",
    "    us.states.PR.fips,\n",
    "    us.states.AK.fips,\n",
    "    us.states.HI.fips,\n",
    "    us.states.VI.fips,\n",
    "]\n",
    "\n",
    "county = county[~county[\"STATEFP\"].isin(exclude_states)]\n",
    "county.plot()"
   ]
  },
  {
   "cell_type": "markdown",
   "id": "9dd28975",
   "metadata": {},
   "source": [
    "This step processes the HMDA dataset by reading loan data, filtering it to include only approved or purchased loans, and aggregating key metrics such as total loan amount, average loan amount, and median family income. The data is grouped by state, county, loan type, and purchaser type, ensuring clean and structured data for further analysis.\n",
    "\n",
    "*Note the use of `engine='pyarrow'`* this is a new feature in `pandas` 2.0.0 that allows for faster reading of files. If you are using an older version of `pandas`, you may need to install the `pyarrow` library separately or use the default engine.\n"
   ]
  },
  {
   "cell_type": "code",
   "execution_count": null,
   "id": "2c2a85ae",
   "metadata": {},
   "outputs": [],
   "source": [
    "# !wget https://files.consumerfinance.gov/hmda-historic-loan-data/hmda_2017_nationwide_first-lien-owner-occupied-1-4-family-records_labels.zip\n",
    "# !unzip hmda_2017_nationwide_first-lien-owner-occupied-1-4-family-records_labels.zip\n",
    "\n",
    "# %% Read in loan data\n",
    "hmda = pd.read_csv(\n",
    "    \"./hmda_2017_nationwide_first-lien-owner-occupied-1-4-family-records_labels.csv\",\n",
    "    engine=\"pyarrow\",\n",
    "\n",
    ")\n",
    "\n",
    "\n",
    "# limit to approved or purchased loans\n",
    "hmda = hmda[(hmda[\"action_taken\"] == 1) | (hmda[\"action_taken\"] == 6)]\n",
    "\n",
    "# get loans by type\n",
    "loans = (\n",
    "    hmda.groupby(\n",
    "        [\"state_code\", \"county_code\", \"loan_type_name\", \"purchaser_type\"],\n",
    "        as_index=False,\n",
    "    )\n",
    "    .agg(\n",
    "        total_loan_amount=(\"loan_amount_000s\", \"sum\"),\n",
    "        avg_loan_amount=(\"loan_amount_000s\", \"mean\"),\n",
    "        fam_income_med=(\"hud_median_family_income\", \"mean\"),\n",
    "    )\n",
    "    .dropna()\n",
    ")\n",
    "\n",
    "loans.head()"
   ]
  },
  {
   "cell_type": "markdown",
   "id": "c255188f",
   "metadata": {},
   "source": [
    "This step standardizes FIPS codes by converting state and county codes into zero-padded strings, ensuring they follow the standard 2-digit and 3-digit formats, respectively. \n",
    "\n",
    "Additionally, it categorizes the `purchaser_type` variable into three groups: \"not_sold,\" \"GSE\" (Government-Sponsored Enterprises), and \"sold_other,\" using defined numeric ranges. This prepares the data for further analysis by creating consistent identifiers and meaningful categories.\n",
    "\n",
    "Categorization of the `purchaser_type` variable is done as follows:\n",
    "- 'not_sold' is (-.1,0]\n",
    "- 'GSE' is (0,4]\n",
    "- 'sold_other' is (4,9]"
   ]
  },
  {
   "cell_type": "code",
   "execution_count": null,
   "id": "d6fe5f58",
   "metadata": {},
   "outputs": [],
   "source": [
    "# standarize FIPS codes\n",
    "loans[\"STATEFP\"] = loans[\"state_code\"].astype(int).astype(str).str.zfill(2)\n",
    "loans[\"COUNTYFP\"] = loans[\"county_code\"].astype(int).astype(str).str.zfill(3)\n",
    "\n",
    "# Set purchaser type to be categorical\n",
    "loans[\"sold\"] = pd.cut(\n",
    "    loans[\"purchaser_type\"],\n",
    "    bins=[-0.1, 0, 4, 9],\n",
    "    labels=[\"not_sold\", \"GSE\", \"sold_other\"],\n",
    ")"
   ]
  },
  {
   "cell_type": "markdown",
   "id": "b074b92b",
   "metadata": {},
   "source": [
    "This code isolates loans **sold to Government-Sponsored Enterprises (GSE)** by grouping the loans dataset based on the standardized FIPS codes (`STATEFP` and `COUNTYFP`) and the categorical `sold` column. It then aggregates key metrics for each group, including the total loan amount (`total_loan_amount`), the average loan amount (`avg_loan_amount`), and the average median family income (`fam_income_med`). \n"
   ]
  },
  {
   "cell_type": "code",
   "execution_count": null,
   "id": "fda0caea",
   "metadata": {},
   "outputs": [],
   "source": [
    "# Isolate loans sold to GSE\n",
    "loans_sold = (\n",
    "    loans.groupby([\"STATEFP\", \"COUNTYFP\", \"sold\"])\n",
    "    .agg(\n",
    "        total_loan_amount=(\"total_loan_amount\", \"sum\"),\n",
    "        avg_loan_amount=(\"avg_loan_amount\", \"mean\"),\n",
    "        fam_income_med=(\"fam_income_med\", \"mean\"),\n",
    "    )\n",
    "    .reset_index()\n",
    ")\n",
    "loans_sold\n"
   ]
  },
  {
   "cell_type": "markdown",
   "id": "a04259e8",
   "metadata": {},
   "source": [
    "We merge the aggregated data with the county geographic data, ensuring that the resulting dataset contains both geographic and loan-related information. This step is crucial for visualizing the data on a map, as it combines the geographic boundaries with the loan metrics.\n",
    "\n",
    "Then it calculates the `loan_income_ratio` to assess the relationship between loan amounts and family income.  \n"
   ]
  },
  {
   "cell_type": "code",
   "execution_count": null,
   "id": "ebbcc380",
   "metadata": {},
   "outputs": [],
   "source": [
    "\n",
    "# Merge boundaries / loans\n",
    "cnt_GSE_loans = pd.merge(\n",
    "    county,\n",
    "    loans_sold[loans_sold[\"sold\"] == \"GSE\"],\n",
    "    on=[\"STATEFP\", \"COUNTYFP\"],\n",
    "    how=\"left\",\n",
    "    validate=\"one_to_one\",\n",
    ")\n",
    "\n",
    "# calculate loan-to-income ratio\n",
    "cnt_GSE_loans[\"loan_income_ratio\"] = (\n",
    "    cnt_GSE_loans[\"avg_loan_amount\"] / cnt_GSE_loans[\"fam_income_med\"]\n",
    ")\n",
    "\n",
    "# plot loan-to-income ratio\n",
    "ax = cnt_GSE_loans.plot(\"loan_income_ratio\", cmap=\"coolwarm\", legend=True)\n",
    "ax.set_title(\"Loan-to-Income Ratio Loans Sold to GSE\")\n"
   ]
  },
  {
   "cell_type": "markdown",
   "id": "114e66b9",
   "metadata": {},
   "source": [
    "This goes through the same steps but but for **loans not sold to GSE**.  "
   ]
  },
  {
   "cell_type": "code",
   "execution_count": null,
   "id": "90aa4e64",
   "metadata": {},
   "outputs": [],
   "source": [
    "# Isolate loans not sold\n",
    "cnt_notsold_loans = pd.merge(\n",
    "    county,\n",
    "    loans_sold[loans_sold[\"sold\"] == \"not_sold\"],\n",
    "    on=[\"STATEFP\", \"COUNTYFP\"],\n",
    "    how=\"left\",\n",
    "    validate=\"one_to_one\",\n",
    ")\n",
    "cnt_notsold_loans[\"loan_income_ratio\"] = (\n",
    "    cnt_notsold_loans[\"avg_loan_amount\"] / cnt_notsold_loans[\"fam_income_med\"]\n",
    ")\n",
    "ax = cnt_notsold_loans.plot(\"loan_income_ratio\", cmap=\"coolwarm\", legend=True)\n",
    "ax.set_title(\"Loan-to-Income Ratio for Not Sold Loans\")\n"
   ]
  },
  {
   "cell_type": "markdown",
   "id": "8dfb7084",
   "metadata": {},
   "source": [
    "Loans not sold to GSEs are then merged into a common data set `common_loans`. The because we are mergining with more than one geometry column, `geometry_not_sold` is dropped, and the remaining geometry column is renamed and the `geometry` and projection are then reset. "
   ]
  },
  {
   "cell_type": "code",
   "execution_count": null,
   "id": "630e83fd",
   "metadata": {},
   "outputs": [],
   "source": [
    "# Bring loans sold and not sold together into county geodataframe\n",
    "\n",
    "# Keep only the variables of interest\n",
    "keep_variables = [\n",
    "    \"STATEFP\",\n",
    "    \"COUNTYFP\",\n",
    "    \"NAME\",\n",
    "    \"geometry\",\n",
    "    \"total_loan_amount\",\n",
    "    \"avg_loan_amount\",\n",
    "    \"fam_income_med\",\n",
    "    \"loan_income_ratio\",\n",
    "]\n",
    "\n",
    "\n",
    "# Merge the two dataframes\n",
    "common_loans = pd.merge(\n",
    "    left=cnt_GSE_loans[keep_variables].dropna(subset=[\"loan_income_ratio\"]),\n",
    "    right=cnt_notsold_loans[keep_variables].dropna(subset=[\"loan_income_ratio\"]),\n",
    "    on=[\"STATEFP\", \"COUNTYFP\"],\n",
    "    how=\"inner\",\n",
    "    validate=\"one_to_one\",\n",
    "    suffixes=(\"_GSE\", \"_not_sold\"),\n",
    ")\n",
    "common_loans = common_loans.drop(columns=\"geometry_not_sold\").rename(\n",
    "    columns={\"geometry_GSE\": \"geometry\"}\n",
    ")\n",
    "common_loans = common_loans.set_geometry(\"geometry\").to_crs(\"ESRI:102003\")\n",
    "common_loans.head()\n",
    "# %% Drop one outlier\n",
    "# common_loans = common_loans[common_loans[\"loan_income_ratio_not_sold\"] < 0.025]"
   ]
  },
  {
   "cell_type": "markdown",
   "id": "544e3439",
   "metadata": {},
   "source": [
    "Now we can plot both variables of interest, `loan_income_ratio` and `loan_amount`, using the `.plot()` function."
   ]
  },
  {
   "cell_type": "code",
   "execution_count": null,
   "id": "07fb80c3",
   "metadata": {},
   "outputs": [],
   "source": [
    "# %% Plot variables of interest\n",
    "fig, (ax1, ax2) = plt.subplots(1, 2, figsize=(12, 6))\n",
    "\n",
    "common_loans.plot(\n",
    "    \"loan_income_ratio_GSE\",\n",
    "    scheme=\"NaturalBreaks\",\n",
    "    k=5,\n",
    "    edgecolor=\"white\",\n",
    "    linewidth=0.1,\n",
    "    alpha=0.75,\n",
    "    legend=True,\n",
    "    legend_kwds={\"fmt\": \"{:.3f}\"},  # Show 4 decimal places\n",
    "    ax=ax1,\n",
    ")\n",
    "ax1.set_title(\"Loan-to-Income Ratio GSE\")\n",
    "common_loans.plot(\n",
    "    \"loan_income_ratio_not_sold\",\n",
    "    # cmap=\"plasma\",\n",
    "    scheme=\"NaturalBreaks\",\n",
    "    k=5,\n",
    "    edgecolor=\"white\",\n",
    "    linewidth=0.1,\n",
    "    alpha=0.75,\n",
    "    legend=True,\n",
    "    legend_kwds={\"fmt\": \"{:.3f}\"},  # Show 4 decimal places\n",
    "    ax=ax2,\n",
    ")\n",
    "ax2.set_title(\"Loan-to-Income Ratio not sold\")"
   ]
  },
  {
   "cell_type": "markdown",
   "id": "7283dbf5",
   "metadata": {},
   "source": [
    "A **weights matrix** is a mathematical representation of spatial relationships between geographic entities, often used in spatial analysis. It defines how areas (e.g., counties) are connected or influence each other, typically based on adjacency or distance. In this tutorial, a **Queen contiguity weights matrix** is created using `libpysal`, where areas are considered neighbors if they share a boundary or corner. \n",
    "\n",
    "![alt text](images/queen_contiguity_matrix.png)\n",
    "\n",
    "The weights are then row-standardized (`w.transform = \"R\"`) to ensure that the influence of each area sums to 1. This matrix is used to perform spatial autocorrelation analysis, such as calculating Moran's I, which measures the degree of spatial clustering of a variable (e.g., `loan_income_ratio`). It helps identify patterns, such as whether high or low values of the variable cluster geographically."
   ]
  },
  {
   "cell_type": "code",
   "execution_count": null,
   "id": "8d146b9d",
   "metadata": {},
   "outputs": [],
   "source": [
    "#  Create the weights matrix from the filtered data\n",
    "w = libpysal.weights.Queen.from_dataframe(common_loans, use_index=True)\n",
    "w.transform = \"R\"  # Row-standardize the weights"
   ]
  },
  {
   "cell_type": "code",
   "execution_count": null,
   "id": "4963bc41",
   "metadata": {},
   "outputs": [],
   "source": [
    "# show the weights\n",
    "w.plot(common_loans)"
   ]
  },
  {
   "cell_type": "markdown",
   "id": "b22cc080",
   "metadata": {},
   "source": [
    "> ## Moran's I Tutorial: Spatial Autocorrelation Measure\n",
    ">Moran's I is a statistical measure used to assess the degree of spatial autocorrelation in a dataset. Spatial autocorrelation refers to the correlation of a variable with itself through space, indicating whether similar values cluster together geographically or are dispersed randomly.\n",
    ">\n",
    "> Formula:\n",
    "> The formula for Moran's I is:\n",
    ">\n",
    "> $ I = \\frac{N}{W} \\cdot \\frac{\\sum_{i}\\sum_{j}w_{ij}(x_i - \\bar{x})(x_j - \\bar{x})}{\\sum_{i}(x_i - \\bar{x})^2} $\n",
    ">\n",
    "> Where:\n",
    "> \n",
    "> - ($N$): Total number of spatial units (e.g., counties).\n",
    "> - ($W$): Sum of all spatial weights (($w_{ij}$)).\n",
    "> - ($w_{ij}$): Spatial weight between units ($i$) and ($j$) (e.g., adjacency or distance-based weights).\n",
    "> - ($x_i$,$ x_j$): Values of the variable of interest at locations ($i$) and ($j$).\n",
    "> - ($\\bar{x}$): Mean of the variable of interest.\n",
    "> \n",
    "> **Interpretation:**\n",
    "> - Positive Moran's I: Indicates clustering of similar values (e.g., high values near high values or low values near low values).\n",
    "> - Negative Moran's I: Indicates dispersion, where dissimilar values are neighbors (e.g., high values near low values).\n",
    "> - Moran's I ≈ 0: Indicates a random spatial pattern with no significant autocorrelation\n",
    "> \n",
    "> In the context of the tutorial, Moran's I is used to analyze the spatial clustering of variables like loan_income_ratio. A high positive Moran's I would suggest that counties with similar loan-to-income ratios are geographically clustered, while a value near zero would indicate no spatial pattern.\n",
    "> \n",
    "> ### Global Moran’s I – How it works\n",
    "> Global moran's I like most measures of spatial autocorrelation leverages a **cross-product** between the distance from the mean of  location $(x_i - \\bar{x})$, and the difference between the mean and the value of its neighbors $(x_j - \\bar{x})$.\n",
    "> \n",
    "> $(x_i - \\bar{x})(x_j - \\bar{x})$   <-- *this is the cross-product*\n",
    "> \n",
    "> ### Cross-product Examples\n",
    "> If we assume $\\bar{x}$ is = 10, we can plug in some high and low values for `x_i` and `x_j` to see how the cross-product works. \n",
    "> \n",
    "> | Feature Values | Difference from Mean | Cross-product | Interpretation       | Correlation |\n",
    "> |----------------|----------------------|----------------|----------------------|-------------|\n",
    "> | I = 50<br>J = 40 | 40<br>30       | 1200          | High neighbor high   | +           |\n",
    "> | I = 8<br>J = 6   | –2<br>–4       | 8             | Low neighbor low     | +           |\n",
    "> | I = 20<br>J = 2  | –10<br>–8      | –80           | High neighbor low    | –           |\n",
    "> \n",
    "> **Take aways:**\n",
    "> - Positive values imply neighbors are both above or below mean\n",
    "> - Negative values imply one neighbor above one below mean\n",
    "> - Larger the deviation, larger the cross-product"
   ]
  },
  {
   "cell_type": "markdown",
   "id": "9c6e9202",
   "metadata": {},
   "source": [
    "In the following block we will calculate the global Moran's I statistic for the `loan_income_ratio` for both `GSE` and `not_sold` loans. This statistic quantifies the degree of spatial autocorrelation in the data, helping to identify whether similar values cluster together or are dispersed across the geographic area."
   ]
  },
  {
   "cell_type": "code",
   "execution_count": null,
   "id": "3edaa6be",
   "metadata": {},
   "outputs": [],
   "source": [
    "# %% Moran's I value\n",
    "# Calculate for GSE loans\n",
    "mi_gse = calculate_moran_i_report(common_loans, \"loan_income_ratio_GSE\", w)\n",
    "\n",
    "# Calculate for not-sold loans\n",
    "mi_not_sold = calculate_moran_i_report(common_loans, \"loan_income_ratio_not_sold\", w)\n",
    "\n"
   ]
  },
  {
   "cell_type": "markdown",
   "id": "a701fdc9",
   "metadata": {},
   "source": [
    "> ## Moran’s I Scatter Plot Tutorial\n",
    "> Moran’s I is a global measure of spatial autocorrelation — it assesses whether similar attribute values cluster spatially. The **Moran’s I scatter plot** is a graphical diagnostic tool that helps visualize these spatial relationships.\n",
    "> \n",
    "> ### Plot Overview\n",
    "> \n",
    "> This example shows **GSE (Government-Sponsored Enterprise) loans** across spatial units.\n",
    "> \n",
    "> - **X-axis (Attribute):** Standardized value of the variable at each location (e.g., proportion of GSE loans).\n",
    "> - **Y-axis (Spatial Lag):** Spatially lagged value — the weighted average of neighboring values.\n",
    "> - **Each Point:** Represents a spatial unit.\n",
    "> - **Black Trend Line:** Indicates the degree and direction of spatial autocorrelation (the slope is the Moran’s I value).\n",
    "> \n",
    "> ### Interpretation by Quadrant\n",
    "> \n",
    "> The scatter plot is divided into four quadrants:\n",
    "> \n",
    "> | Quadrant        | Description                     | Spatial Pattern     |\n",
    "> |-----------------|----------------------------------|---------------------|\n",
    "> | **Upper Right** | High values surrounded by high  | High–High (Red Cluster) |\n",
    "> | **Lower Left**  | Low values surrounded by low    | Low–Low (Blue Cluster)   |\n",
    "> | **Upper Left**  | Low values surrounded by high   | Low–High (Orange Outlier)  |\n",
    "> | **Lower Right** | High values surrounded by low   | High–Low (Light Blue Outlier)  |\n",
    "> \n",
    "> Points in the upper right and lower left indicate **positive spatial autocorrelation** (clustering), while points in the other two quadrants indicate **spatial outliers**.\n",
    "> \n",
    "> ### Take aways:\n",
    "> \n",
    "> - **Positive Moran’s I**: Similar values cluster (as seen in this plot).\n",
    "> - **Negative Moran’s I**: Dissimilar values are neighbors (more points in opposing quadrants).\n",
    "> - The **slope** of the trend line is a visual approximation of the **Moran’s I statistic**, which ranges from –1 (perfect dispersion) to +1 (perfect clustering)."
   ]
  },
  {
   "cell_type": "code",
   "execution_count": null,
   "id": "6d918ff7",
   "metadata": {},
   "outputs": [],
   "source": [
    "#  Moran's Scatter\n",
    "plot_moran_scatter(df=common_loans,\n",
    "    x_name=\"loan_income_ratio_GSE\", w=w , title=\"GSE loans\"\n",
    ")"
   ]
  },
  {
   "cell_type": "code",
   "execution_count": null,
   "id": "0e8873de",
   "metadata": {},
   "outputs": [],
   "source": [
    "plot_moran_scatter(\n",
    "    df=common_loans, x_name=\"loan_income_ratio_not_sold\", w=w, title=\"not sold\"\n",
    ")"
   ]
  },
  {
   "cell_type": "code",
   "execution_count": null,
   "id": "697a9349",
   "metadata": {},
   "outputs": [],
   "source": [
    "\n",
    "# %%\n",
    "# from splot.esda import plot_local_autocorrelation, moran_scatterplot\n",
    "# from esda.moran import Moran_Local\n",
    "\n",
    "# plot_local_autocorrelation(\n",
    "#     moran_loc=Moran_Local(common_loans[\"loan_income_ratio_GSE\"].values, w),\n",
    "#     gdf=common_loans,\n",
    "#     attribute=\"loan_income_ratio_GSE\",\n",
    "# )\n"
   ]
  },
  {
   "cell_type": "code",
   "execution_count": null,
   "id": "320b6129",
   "metadata": {},
   "outputs": [],
   "source": [
    "\n",
    "# %%\n",
    "moran_scatterplot(Moran_Local(common_loans[\"loan_income_ratio_GSE\"].values, w), p=0.05)\n"
   ]
  },
  {
   "cell_type": "code",
   "execution_count": null,
   "id": "0bb24784",
   "metadata": {},
   "outputs": [],
   "source": [
    "\n",
    "# %%\n",
    "from esda.moran import Moran_Local_BV\n",
    "\n",
    "moran_scatterplot(\n",
    "    Moran_Local_BV(\n",
    "        common_loans[\"loan_income_ratio_GSE\"].values,\n",
    "        common_loans[\"loan_income_ratio_not_sold\"].values,\n",
    "        w,\n",
    "    ),\n",
    "    p=0.05,\n",
    ")\n"
   ]
  },
  {
   "cell_type": "code",
   "execution_count": null,
   "id": "76b834af",
   "metadata": {},
   "outputs": [],
   "source": [
    "\n",
    "# %% interactive local morans bivariate\n",
    "\n",
    "quadrant_GSEvNotSold = calculate_moran_local_bv(\n",
    "    gdf=common_loans,\n",
    "    x_name=\"loan_income_ratio_GSE\",\n",
    "    y_name=\"loan_income_ratio_not_sold\",\n",
    "    w=w,\n",
    ")\n"
   ]
  },
  {
   "cell_type": "code",
   "execution_count": null,
   "id": "6d816705",
   "metadata": {},
   "outputs": [],
   "source": [
    "# %%\n",
    "color_mapping = {\n",
    "    \"HH\": \"red\",\n",
    "    \"HL\": \"orange\",\n",
    "    \"LH\": \"lightblue\",\n",
    "    \"LL\": \"blue\",\n",
    "    \"NS\": \"lightgrey\",\n",
    "}\n",
    "quadrant_GSEvNotSold[\"color\"] = quadrant_GSEvNotSold[\"quadrant_label\"].map(color_mapping)\n",
    "\n",
    "# Use the mapped colors in the explore function\n",
    "quadrant_GSEvNotSold.explore(\n",
    "    column=\"quadrant_label\",\n",
    "    cmap=list(color_mapping.values()),  # Ensure the colors match the legend order\n",
    "    tooltip=False,\n",
    "    popup=True,\n",
    "    legend=True,  # Enable legend\n",
    "    legend_kwds={\"colorbar\": False, \"caption\": \"Quadrant\"},\n",
    ")"
   ]
  },
  {
   "cell_type": "code",
   "execution_count": null,
   "id": "612f8b51",
   "metadata": {},
   "outputs": [],
   "source": [
    "map_local_morans(\n",
    "    gdf=common_loans,\n",
    "    x_name=\"loan_income_ratio_GSE\",\n",
    "    y_name=\"loan_income_ratio_not_sold\",\n",
    "    w=w,\n",
    ")"
   ]
  },
  {
   "cell_type": "code",
   "execution_count": null,
   "id": "be17e217",
   "metadata": {},
   "outputs": [],
   "source": [
    "quadrant_GSEvNotSold = calculate_moran_local_bv(\n",
    "    gdf=common_loans,\n",
    "    x_name=\"loan_income_ratio_GSE\",\n",
    "    y_name=\"loan_income_ratio_not_sold\",\n",
    "    w=w,\n",
    ")"
   ]
  },
  {
   "cell_type": "code",
   "execution_count": null,
   "id": "93e46099",
   "metadata": {},
   "outputs": [],
   "source": [
    "\n",
    "# %%\n",
    "# %% Lisa PLots - single variable\n",
    "plot_lisa_analysis(\n",
    "    df=common_loans,\n",
    "    x_name=\"loan_income_ratio_GSE\",\n",
    "    w=w,\n",
    "    title_prefix=\"loan_income_ratio_GSE\",\n",
    "    legend_kwds={\"fmt\": \"{:.4f}\"},\n",
    ")\n"
   ]
  },
  {
   "cell_type": "code",
   "execution_count": null,
   "id": "eedadf4d",
   "metadata": {},
   "outputs": [],
   "source": [
    "\n",
    "# %%\n",
    "plot_lisa_analysis(\n",
    "    df=common_loans,\n",
    "    x_name=\"loan_income_ratio_not_sold\",\n",
    "    w=w,\n",
    "    title_prefix=\"\",\n",
    "    legend_kwds={\"fmt\": \"{:.4f}\"},\n",
    ")\n"
   ]
  },
  {
   "cell_type": "code",
   "execution_count": null,
   "id": "89ec44a4",
   "metadata": {},
   "outputs": [],
   "source": [
    "\n",
    "\n",
    "# %% Lisa Plot - multivariable\n",
    "\n",
    "plot_lisa_analysis(\n",
    "    df=common_loans,\n",
    "    x_name=\"loan_income_ratio_GSE\",\n",
    "    y_name=\"loan_income_ratio_not_sold\",\n",
    "    w=w,\n",
    "    title_prefix=\"GSE/nosold\",\n",
    "    legend_kwds={\"fmt\": \"{:.4f}\"},\n",
    ")"
   ]
  },
  {
   "cell_type": "code",
   "execution_count": null,
   "id": "a3817bad",
   "metadata": {},
   "outputs": [],
   "source": []
  }
 ],
 "metadata": {
  "kernelspec": {
   "display_name": "ipa",
   "language": "python",
   "name": "python3"
  },
  "language_info": {
   "codemirror_mode": {
    "name": "ipython",
    "version": 3
   },
   "file_extension": ".py",
   "mimetype": "text/x-python",
   "name": "python",
   "nbconvert_exporter": "python",
   "pygments_lexer": "ipython3",
   "version": "3.13.2"
  }
 },
 "nbformat": 4,
 "nbformat_minor": 5
}
